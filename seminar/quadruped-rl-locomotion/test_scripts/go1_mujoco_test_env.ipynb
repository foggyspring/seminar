{
 "cells": [
  {
   "cell_type": "markdown",
   "metadata": {},
   "source": [
    "Notebook for practicing with the mujoco environment and API"
   ]
  },
  {
   "cell_type": "markdown",
   "metadata": {},
   "source": [
    "The following are some of the requirements in addition to the `requirements.txt` file.\n",
    "\n",
    "```\n",
    "mujoco-python-viewer==0.1.4\n",
    "ipykernel\n",
    "```"
   ]
  },
  {
   "cell_type": "code",
   "execution_count": 3,
   "metadata": {},
   "outputs": [
    {
     "data": {
      "text/plain": [
       "array([ 0. ,  0.8, -1.5,  0. ,  0.8, -1.5,  0. ,  1. , -1.5,  0. ,  1. ,\n",
       "       -1.5])"
      ]
     },
     "execution_count": 3,
     "metadata": {},
     "output_type": "execute_result"
    }
   ],
   "source": [
    "import mujoco\n",
    "import mujoco_viewer\n",
    "\n",
    "# scene.xml includes the robot model and a simple environment\n",
    "model = mujoco.MjModel.from_xml_path(\"../unitree_go1/scene_position.xml\")\n",
    "\n",
    "# Contains the state of the model (time: .time, pos: .qpos, vel: .qvel) \n",
    "data = mujoco.MjData(model)\n",
    "model.key_ctrl[0]\n"
   ]
  },
  {
   "cell_type": "code",
   "execution_count": 4,
   "metadata": {},
   "outputs": [
    {
     "name": "stdout",
     "output_type": "stream",
     "text": [
      "model.geom: \"Invalid name ''. Valid names: ['FL', 'FR', 'RL', 'RR', 'floor']\"\n",
      "data.geom: \"Invalid name ''. Valid names: ['FL', 'FR', 'RL', 'RR', 'floor']\"\n",
      "data.body: \"Invalid name ''. Valid names: ['FL_calf', 'FL_hip', 'FL_thigh', 'FR_calf', 'FR_hip', 'FR_thigh', 'RL_calf', 'RL_hip', 'RL_thigh', 'RR_calf', 'RR_hip', 'RR_thigh', 'trunk', 'world']\"\n",
      "model.actuator: \"Invalid name ''. Valid names: ['FL_calf', 'FL_hip', 'FL_thigh', 'FR_calf', 'FR_hip', 'FR_thigh', 'RL_calf', 'RL_hip', 'RL_thigh', 'RR_calf', 'RR_hip', 'RR_thigh']\"\n",
      "actuator control gain: [20.  0.  0.  0.  0.  0.  0.  0.  0.  0.]\n"
     ]
    }
   ],
   "source": [
    "# Print out the name of the body accessors\n",
    "try:\n",
    "    model.geom()\n",
    "except KeyError as e:\n",
    "    print(f\"model.geom: {e}\")\n",
    "    \n",
    "try:\n",
    "    data.geom()\n",
    "except KeyError as e:\n",
    "    print(f\"data.geom: {e}\")\n",
    "    \n",
    "try:\n",
    "    data.body()\n",
    "except KeyError as e:\n",
    "    print(f\"data.body: {e}\")\n",
    "    \n",
    "try:\n",
    "    model.actuator()\n",
    "except KeyError as e:\n",
    "    print(f\"model.actuator: {e}\")\n",
    "    \n",
    "    \n",
    "trunk_id = mujoco.mj_name2id(model, mujoco.mjtObj.mjOBJ_BODY.value, \"trunk\")\n",
    "data.body(trunk_id)\n",
    "\n",
    "print(f\"actuator control gain: {model.actuator(0).gainprm}\")\n",
    "# print(model.geom(5).friction)\n"
   ]
  },
  {
   "cell_type": "code",
   "execution_count": 5,
   "metadata": {},
   "outputs": [
    {
     "name": "stdout",
     "output_type": "stream",
     "text": [
      "Simulated time: 0.0 sec\n",
      "Default timestep: 0.002 sec\n",
      "Degrees of freedom: model.nv=18\n",
      "len(data.qpos)=19 data.qpos=array([0.   , 0.   , 0.445, 1.   , 0.   , 0.   , 0.   , 0.   , 0.   ,\n",
      "       0.   , 0.   , 0.   , 0.   , 0.   , 0.   , 0.   , 0.   , 0.   ,\n",
      "       0.   ])\n",
      "len(data.qvel)=18 data.qvel=array([0., 0., 0., 0., 0., 0., 0., 0., 0., 0., 0., 0., 0., 0., 0., 0., 0.,\n",
      "       0.])\n",
      "len(data.xpos)=14 data.xpos=array([[0., 0., 0.],\n",
      "       [0., 0., 0.],\n",
      "       [0., 0., 0.],\n",
      "       [0., 0., 0.],\n",
      "       [0., 0., 0.],\n",
      "       [0., 0., 0.],\n",
      "       [0., 0., 0.],\n",
      "       [0., 0., 0.],\n",
      "       [0., 0., 0.],\n",
      "       [0., 0., 0.],\n",
      "       [0., 0., 0.],\n",
      "       [0., 0., 0.],\n",
      "       [0., 0., 0.],\n",
      "       [0., 0., 0.]])\n",
      "len(data.ctrl)=12 data.ctrl=array([0., 0., 0., 0., 0., 0., 0., 0., 0., 0., 0., 0.])\n"
     ]
    }
   ],
   "source": [
    "print(f\"Simulated time: {data.time} sec\")\n",
    "print(f\"Default timestep: {model.opt.timestep} sec\")\n",
    "print(f\"Degrees of freedom: {model.nv=}\")\n",
    "\n",
    "# Position has 1 extra dimension since orientation is represented with\n",
    "# quaternions (4-values) while angular velocity has 3 values.\n",
    "print(f\"{len(data.qpos)=} {data.qpos=}\")\n",
    "print(f\"{len(data.qvel)=} {data.qvel=}\")\n",
    "print(f\"{len(data.xpos)=} {data.xpos=}\")\n",
    "print(f\"{len(data.ctrl)=} {data.ctrl=}\")\n",
    "# print(f\"{len(data.site_xpos)=} {data.site_xpos=}\")"
   ]
  },
  {
   "cell_type": "code",
   "execution_count": 6,
   "metadata": {},
   "outputs": [
    {
     "ename": "",
     "evalue": "",
     "output_type": "error",
     "traceback": [
      "\u001b[1;31mThe Kernel crashed while executing code in the current cell or a previous cell. \n",
      "\u001b[1;31mPlease review the code in the cell(s) to identify a possible cause of the failure. \n",
      "\u001b[1;31mClick <a href='https://aka.ms/vscodeJupyterKernelCrash'>here</a> for more info. \n",
      "\u001b[1;31mView Jupyter <a href='command:jupyter.viewOutput'>log</a> for further details."
     ]
    }
   ],
   "source": [
    "import numpy as np\n",
    "import time\n",
    "# Setup viewer\n",
    "viewer = mujoco_viewer.MujocoViewer(model, data)\n",
    "\n",
    "# Reset the simulation\n",
    "mujoco.mj_resetDataKeyframe(model, data, 0)\n",
    "\n",
    "print(f\"{len(data.ctrl)=} {data.ctrl=}\")\n",
    "print(f\"ctrl/torque range defined in motor ctrlrange in xml: {model.actuator_ctrlrange=}\")\n",
    "\n",
    "\n",
    "_cfrc_ext_feet_indices = [4, 7, 10, 13]  # 4:FR, 7:FL, 10:RR, 13:RL\n",
    "feet_site = [\n",
    "    \"FR\",\n",
    "    \"FL\",\n",
    "    \"RR\",\n",
    "    \"RL\",\n",
    "]\n",
    "feet_site_indices = [mujoco.mj_name2id(model, mujoco.mjtObj.mjOBJ_SITE.value, f)\n",
    "    for f in feet_site]\n",
    "\n",
    "\n",
    "print([mujoco.mj_id2name(model, mujoco.mjtObj.mjOBJ_ACTUATOR.value, i)\n",
    "    for i in range(len(data.qfrc_actuator))])\n",
    "\n",
    "print(f\"{model.jnt_range=}\")\n",
    "\n",
    "for _ in range(10000):\n",
    "    if viewer.is_alive:\n",
    "        mujoco.mj_step(model, data)\n",
    "        mujoco.mj_rnePostConstraint(model, data)\n",
    "        \n",
    "        \n",
    "        feet_contact_force_mag = np.linalg.norm(data.cfrc_ext[_cfrc_ext_feet_indices])\n",
    "        curr_contact = feet_contact_force_mag > 0.1\n",
    "        contacting_feet = data.site_xpos[feet_site_indices] * curr_contact\n",
    "        \n",
    "        mujoco.mj_fwdActuation(model, data)\n",
    "        \n",
    "        data.ctrl[-1] = -2\n",
    "        \n",
    "        print(f\"{data.ctrl[-1]=}\")\n",
    "        print(f\"{data.qpos[-1]=}\")\n",
    "        \n",
    "        \n",
    "        viewer.render()\n",
    "        time.sleep(0.001)\n",
    "        \n",
    "    else:\n",
    "        break\n",
    "\n",
    "viewer.close()"
   ]
  }
 ],
 "metadata": {
  "kernelspec": {
   "display_name": ".venv",
   "language": "python",
   "name": "python3"
  },
  "language_info": {
   "codemirror_mode": {
    "name": "ipython",
    "version": 3
   },
   "file_extension": ".py",
   "mimetype": "text/x-python",
   "name": "python",
   "nbconvert_exporter": "python",
   "pygments_lexer": "ipython3",
   "version": "3.8.19"
  }
 },
 "nbformat": 4,
 "nbformat_minor": 2
}
